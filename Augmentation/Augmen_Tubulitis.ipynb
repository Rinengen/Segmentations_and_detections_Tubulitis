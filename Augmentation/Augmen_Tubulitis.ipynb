{
  "cells": [
    {
      "cell_type": "markdown",
      "metadata": {},
      "source": [
        "### Импорт библиотек, настройка \n",
        "\n"
      ]
    },
    {
      "cell_type": "code",
      "execution_count": 1,
      "metadata": {
        "id": "Wbve8DULd9Dv"
      },
      "outputs": [
        {
          "name": "stderr",
          "output_type": "stream",
          "text": [
            "c:\\Users\\minik\\anaconda3\\envs\\PyTorch\\Lib\\site-packages\\tqdm\\auto.py:21: TqdmWarning: IProgress not found. Please update jupyter and ipywidgets. See https://ipywidgets.readthedocs.io/en/stable/user_install.html\n",
            "  from .autonotebook import tqdm as notebook_tqdm\n"
          ]
        }
      ],
      "source": [
        "import torch\n",
        "import os\n",
        "from PIL import Image\n",
        "import numpy as np\n",
        "import torch\n",
        "from torch.utils.data import Dataset, DataLoader, SubsetRandomSampler\n",
        "from torchvision import transforms\n",
        "import matplotlib.pyplot as plt\n",
        "import torchvision\n",
        "from torchvision.models.detection import maskrcnn_resnet50_fpn\n",
        "from torchvision.models.detection.mask_rcnn import MaskRCNNPredictor\n",
        "import torch.optim as optim\n",
        "import torch.nn as nn\n",
        "from tqdm import tqdm\n",
        "import cv2\n",
        "import albumentations as A\n",
        "from albumentations.pytorch import ToTensorV2"
      ]
    },
    {
      "cell_type": "code",
      "execution_count": 2,
      "metadata": {
        "colab": {
          "base_uri": "https://localhost:8080/"
        },
        "id": "gUraI1IZeN5g",
        "outputId": "fb000ae5-89bb-46c3-f0c5-189141afa942"
      },
      "outputs": [
        {
          "name": "stdout",
          "output_type": "stream",
          "text": [
            "PyTorch version: 2.2.2\n",
            "**********\n",
            "_CUDA version: \n",
            "nvcc: NVIDIA (R) Cuda compiler driver\n",
            "Copyright (c) 2005-2022 NVIDIA Corporation\n",
            "Built on Wed_Sep_21_10:41:10_Pacific_Daylight_Time_2022\n",
            "Cuda compilation tools, release 11.8, V11.8.89\n",
            "Build cuda_11.8.r11.8/compiler.31833905_0\n",
            "**********\n",
            "CUDNN version: 8801\n",
            "Available GPU devices: 1\n",
            "Device Name: NVIDIA GeForce GTX 1650 Ti\n"
          ]
        }
      ],
      "source": [
        "print(f'PyTorch version: {torch.__version__}')\n",
        "print('*'*10)\n",
        "print(f'_CUDA version: ')\n",
        "!nvcc --version\n",
        "print('*'*10)\n",
        "print(f'CUDNN version: {torch.backends.cudnn.version()}')\n",
        "print(f'Available GPU devices: {torch.cuda.device_count()}')\n",
        "print(f'Device Name: {torch.cuda.get_device_name()}')"
      ]
    },
    {
      "cell_type": "markdown",
      "metadata": {},
      "source": [
        "### Create DataSet, Preproccesing, Augmentation, DataLoader\n"
      ]
    },
    {
      "cell_type": "code",
      "execution_count": 4,
      "metadata": {
        "id": "lsaNai0Geh7-"
      },
      "outputs": [],
      "source": [
        "# Пути данных\n",
        "TRAIN_DATA = \"C:\\\\Users\\\\minik\\\\Desktop\\\\datasets\\\\1\\\\\"\n",
        "\n"
      ]
    },
    {
      "cell_type": "code",
      "execution_count": 5,
      "metadata": {
        "id": "6JmVz9RykyNg"
      },
      "outputs": [],
      "source": [
        "#Задаем параменты аугментации\n",
        "transform = A.Compose([\n",
        "    A.OneOf([A.RandomRotate90(), A.Transpose()], p=0.5),\n",
        "    A.OneOf([A.HorizontalFlip(p=1), A.VerticalFlip(p=1)], p=0.5),\n",
        "    A.OneOf([A.RandomBrightnessContrast(p=0.5), A.RandomGamma(p=0.8) ], p=0.5),\n",
        "    A.OneOf([A.MedianBlur(blur_limit=3, p=0.1), A.GaussNoise()], p=0.2),\n",
        "    A.OneOf([A.GridDistortion(p=0.5)], p=0.3),\n",
        "    A.CLAHE(p=0.8),\n",
        "    A.RandomBrightnessContrast(p=0.8),\n",
        "    A.RandomGamma(p=0.8)\n",
        "])\n"
      ]
    },
    {
      "cell_type": "code",
      "execution_count": 7,
      "metadata": {
        "id": "CgEWUfF-uRb3"
      },
      "outputs": [],
      "source": [
        "#Создаем класс для создания датасета, в котором используем аугментацию\n",
        "#данных с помощью библиотеки Albumentation\n",
        "\n",
        "class CustomDataset_AUG(Dataset):\n",
        "    def __init__(self, img_path, msk_path, transform=None):\n",
        "        self.images_paths = os.path.join(img_path, 'images')\n",
        "        self.masks_paths = os.path.join(msk_path, 'masks\\\\Tubulitis')\n",
        "        self.image_filenames = os.listdir(self.images_paths)\n",
        "        self.transform = transform\n",
        "\n",
        "    def __len__(self):\n",
        "        return len(self.image_filenames)\n",
        "\n",
        "    def __getitem__(self, idx):\n",
        "        image_name = self.image_filenames[idx]\n",
        "        image_path = os.path.join(self.images_paths, image_name)\n",
        "        mask_path = os.path.join(self.masks_paths, image_name)\n",
        "\n",
        "\n",
        "        image = Image.open(image_path).convert(\"RGB\")\n",
        "        mask = Image.open(mask_path).convert(\"RGB\")\n",
        "\n",
        "        if self.transform:\n",
        "            augmented = self.transform(image=np.array(image), mask=np.array(mask))\n",
        "            image = augmented['image']\n",
        "            mask = augmented['mask']\n",
        "\n",
        "\n",
        "        image = transforms.ToTensor()(image)\n",
        "        mask = torch.from_numpy(np.array(mask, dtype=np.float32) / 255.0)\n",
        "\n",
        "        return image, mask"
      ]
    },
    {
      "cell_type": "code",
      "execution_count": null,
      "metadata": {},
      "outputs": [],
      "source": [
        "# Создаем Augmented_DS\n",
        "Augmented_DS = CustomDataset_AUG(\n",
        "    img_path = TRAIN_DATA,\n",
        "    msk_path = TRAIN_DATA,\n",
        "    transform = transform\n",
        ")\n",
        "\n",
        "DIR_TO_AUG_IMAGE = \"C:\\\\Users\\\\minik\\\\Desktop\\\\datasets\\\\1\\\\aug\\\\images\"  # путь для сохранения аугментированного изображения\n",
        "DIR_TO_AUG_MASK =  \"C:\\\\Users\\\\minik\\\\Desktop\\\\datasets\\\\1\\\\aug\\\\masks\\\\Tubulitis\"  # путь для сохранения аугментированной маски\n",
        "\n",
        "num_augmentations = 2\n",
        "\n",
        "for i in range(num_augmentations):\n",
        "\n",
        "  for idx, (image, mask) in enumerate(Augmented_DS):\n",
        "      # Convert tensor to numpy array\n",
        "      image_np = image.permute(1, 2, 0).numpy()\n",
        "      mask_np = mask.numpy()\n",
        "\n",
        "      # Save augmented image and mask\n",
        "      cv2.imwrite(\n",
        "          os.path.join(DIR_TO_AUG_IMAGE, f\"{idx}_{i}.png\"),\n",
        "          cv2.cvtColor((image_np * 255).astype(np.uint8),\n",
        "          cv2.COLOR_RGB2BGR))\n",
        "      cv2.imwrite(\n",
        "          os.path.join(DIR_TO_AUG_MASK, f\"{idx}_{i}.png\"),\n",
        "          (mask_np * 255).astype(np.uint8))"
      ]
    }
  ],
  "metadata": {
    "accelerator": "GPU",
    "colab": {
      "gpuType": "T4",
      "provenance": []
    },
    "kernelspec": {
      "display_name": "Python 3",
      "name": "python3"
    },
    "language_info": {
      "codemirror_mode": {
        "name": "ipython",
        "version": 3
      },
      "file_extension": ".py",
      "mimetype": "text/x-python",
      "name": "python",
      "nbconvert_exporter": "python",
      "pygments_lexer": "ipython3",
      "version": "3.11.8"
    }
  },
  "nbformat": 4,
  "nbformat_minor": 0
}
